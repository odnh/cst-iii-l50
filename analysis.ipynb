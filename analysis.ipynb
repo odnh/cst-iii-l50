{
 "cells": [
  {
   "cell_type": "markdown",
   "metadata": {},
   "source": [
    "# L50 - Lab 4: Analysis of results"
   ]
  },
  {
   "cell_type": "code",
   "execution_count": null,
   "metadata": {},
   "outputs": [],
   "source": [
    "using Gadfly\n",
    "using DataFrames\n",
    "using Statistics"
   ]
  },
  {
   "cell_type": "code",
   "execution_count": null,
   "metadata": {},
   "outputs": [],
   "source": [
    "latex_fonts = Theme(major_label_font=\"Libertine\", major_label_font_size=12pt,\n",
    "                    minor_label_font=\"Libertine\", minor_label_font_size=10pt,\n",
    "                    key_title_font=\"Libertine\", key_title_font_size=10pt,\n",
    "                    key_label_font=\"Libertine\", key_label_font_size=8pt)\n",
    "Gadfly.push_theme(latex_fonts)"
   ]
  },
  {
   "cell_type": "markdown",
   "metadata": {},
   "source": [
    "### Exp1 - ping (RTT)"
   ]
  },
  {
   "cell_type": "code",
   "execution_count": null,
   "metadata": {},
   "outputs": [],
   "source": [
    "# parsing function\n",
    "function parse_ping(filepath)\n",
    "    f = open(filepath)\n",
    "    lines = readlines(f)\n",
    "    close(f)\n",
    "    \n",
    "    lines = join(lines, \" \")\n",
    "    rtts = map(x -> parse(Float64, x.match), collect(eachmatch(r\"(?<=time=)[\\d\\.]+\", lines)))\n",
    "    loss = parse(Int, match(r\"[\\d\\.]+(?=% packet loss)\", lines).match)\n",
    "    return (rtts=rtts, loss=loss)\n",
    "end;"
   ]
  },
  {
   "cell_type": "code",
   "execution_count": null,
   "metadata": {},
   "outputs": [],
   "source": [
    "# read data\n",
    "exp1dir = \"data/exp1\"\n",
    "\n",
    "pings = DataFrame(src = Int[], dest = Int[], wait = Float64[], rtt = Float64[])\n",
    "for idx in [(i, j) for i in 1:5, j in 1:5 if i != j]\n",
    "    i, j = idx\n",
    "    intervals = [0.000001, 0.00001, 0.0001, 0.001, 0.01, 0.1]\n",
    "    for interval in intervals\n",
    "        vals = parse_ping(\"$exp1dir/ping-$i-$j-$interval\")\n",
    "        for rtt in vals[:rtts]\n",
    "            push!(pings, (i, j, interval, rtt))\n",
    "        end\n",
    "    end\n",
    "end\n",
    "\n",
    "pings_stats = by(pings, [:src, :dest, :wait], :rtt => mean, :rtt => std);"
   ]
  },
  {
   "cell_type": "code",
   "execution_count": null,
   "metadata": {},
   "outputs": [],
   "source": [
    "p = plot(pings,\n",
    "    x=:dest,\n",
    "    y=:rtt,\n",
    "    xgroup=:src,\n",
    "    color=:dest,\n",
    "    ygroup=:wait,\n",
    "    Geom.subplot_grid(Geom.violin,\n",
    "        Coord.cartesian(xmin=1, xmax=5, ymin=0)),\n",
    "    Scale.color_discrete,\n",
    "    Guide.xlabel(\"dest by src\"),\n",
    "    Guide.ylabel(\"RTT /ms by wait /s\"))\n",
    "draw(SVG(\"pings_allpair_violinplot.svg\", 12inch, 8inch), p)"
   ]
  },
  {
   "cell_type": "code",
   "execution_count": null,
   "metadata": {},
   "outputs": [],
   "source": [
    "function build_ping_matrices(pingsdf)\n",
    "    mats = Dict()\n",
    "    for interval in [0.000001, 0.00001, 0.0001, 0.001, 0.01, 0.1]\n",
    "        mats[interval] = zeros(Float64, 5, 5)\n",
    "        for idx in [(i, j) for i in 1:5, j in 1:5 if i != j]\n",
    "            i, j = idx\n",
    "            mats[interval][i, j] = pingsdf[(pingsdf.src .== i) .&\n",
    "                (pingsdf.dest .== j) .&\n",
    "                (pingsdf.wait .== interval), :].rtt_mean[1]\n",
    "        end\n",
    "    end\n",
    "    return mats\n",
    "end"
   ]
  },
  {
   "cell_type": "code",
   "execution_count": null,
   "metadata": {},
   "outputs": [],
   "source": [
    "p = plot(pings_stats,\n",
    "    xgroup=:wait,\n",
    "    x=:src,\n",
    "    y=:dest,\n",
    "    color=:rtt_mean,\n",
    "    Geom.subplot_grid(Geom.rectbin,\n",
    "        Coord.cartesian(xmin=1, xmax=5, ymin=1, ymax=5),\n",
    "        Guide.xticks(orientation=:horizontal)),\n",
    "    Guide.xlabel(\"src by wait /s\"),\n",
    "    Guide.ylabel(\"dest\"),\n",
    "    Guide.colorkey(title=\"RTT mean\"))\n",
    "draw(SVG(\"ping_allpair_matrix_rtt_mean.svg\", 10inch, 2.8inch), p)\n",
    "p = plot(pings_stats,\n",
    "    xgroup=:wait,\n",
    "    x=:src,\n",
    "    y=:dest,\n",
    "    color=:rtt_std,\n",
    "    Geom.subplot_grid(Geom.rectbin,\n",
    "        Coord.cartesian(xmin=1, xmax=5, ymin=1, ymax=5),\n",
    "        Guide.xticks(orientation=:horizontal)),\n",
    "    Guide.xlabel(\"src by wait /s\"),\n",
    "    Guide.ylabel(\"dest\"),\n",
    "    Guide.colorkey(title=\"RTT std\"))\n",
    "draw(SVG(\"ping_allpair_matrix_rtt_std.svg\", 10inch, 2.8inch), p)"
   ]
  },
  {
   "cell_type": "code",
   "execution_count": null,
   "metadata": {},
   "outputs": [],
   "source": [
    "edges = join([\"$i -- $j [len=$(build_ping_matrices(pings_stats)[0.0001][i,j])];\" for i in 1:5, j in 1:5 if i != j], \" \")\n",
    "graph = \"graph G { node [shape=box, style=filled, width=.3, height=.3]; $edges }\"\n",
    "f = open(\"ping_graph_0.1.svg\", \"w\")\n",
    "print(f, read(pipeline(`echo $graph`, `neato -Tsvg`), String))\n",
    "close(f)"
   ]
  },
  {
   "cell_type": "markdown",
   "metadata": {},
   "source": [
    "### Exp2 - traceroute: nothing to see here (all were 1 hop)"
   ]
  },
  {
   "cell_type": "markdown",
   "metadata": {},
   "source": [
    "### Exp3 - iperf"
   ]
  },
  {
   "cell_type": "code",
   "execution_count": null,
   "metadata": {},
   "outputs": [],
   "source": [
    "# parsing function\n",
    "function parse_iperf(filepath)\n",
    "    f = open(filepath)\n",
    "    lines = readlines(f) # remove start\n",
    "    close(f)\n",
    "    \n",
    "    lines = join(lines, \" \")\n",
    "    bandwidths = map(x -> parse(Float64, x.match), collect(eachmatch(r\"[\\d\\.]+(?= Mbits\\/sec)\", lines)))\n",
    "    return bandwidths\n",
    "end;"
   ]
  },
  {
   "cell_type": "code",
   "execution_count": null,
   "metadata": {},
   "outputs": [],
   "source": [
    "# read data\n",
    "exp3dir = \"data/exp3\"\n",
    "\n",
    "iperfs = DataFrame(src = Int[], dest = Int[], time = Int[], bandwidth = Float64[])\n",
    "for idx in [(i, j) for i in 1:5, j in 1:5 if i != j]\n",
    "    i, j = idx\n",
    "    vals = parse_iperf(\"$exp3dir/iperf-$i-$j\")\n",
    "    for t in 1:length(vals)\n",
    "        push!(iperfs, (i, j, t-1, vals[t]))\n",
    "    end\n",
    "end"
   ]
  },
  {
   "cell_type": "code",
   "execution_count": null,
   "metadata": {},
   "outputs": [],
   "source": [
    "p = plot(by(iperfs, [:time, :src, :dest], :bandwidth => mean, :bandwidth => minimum, :bandwidth => maximum),\n",
    "    x=:time,\n",
    "    y=:bandwidth_mean,\n",
    "    ymin=:bandwidth_minimum,\n",
    "    ymax=:bandwidth_maximum,\n",
    "    ygroup=:src,\n",
    "    color=:dest,\n",
    "    Geom.subplot_grid(Geom.point, Geom.line, Geom.errorbar),\n",
    "    Scale.color_discrete,\n",
    "    Guide.xlabel(\"time /s\"),\n",
    "    Guide.ylabel(\"mean bandwidth /Mbps by src\"))\n",
    "draw(SVG(\"iperfs_dest_group_by_src.svg\", 10inch, 8inch), p)"
   ]
  },
  {
   "cell_type": "code",
   "execution_count": null,
   "metadata": {},
   "outputs": [],
   "source": [
    "p = plot(iperfs,\n",
    "    x=:dest,\n",
    "    xgroup=:src,\n",
    "    y=:bandwidth,\n",
    "    Geom.subplot_grid(Geom.boxplot,\n",
    "        Coord.cartesian(xmin=1, xmax=5),\n",
    "        Guide.xticks(orientation=:horizontal)),\n",
    "   Guide.ylabel(\"bandwidth /Mbps\"))\n",
    "draw(SVG(\"iperfs_boxplot_group_by_src.svg\", 10inch, 8inch), p)"
   ]
  },
  {
   "cell_type": "code",
   "execution_count": null,
   "metadata": {},
   "outputs": [],
   "source": [
    "iperfmat = zeros(Float64,5,5)\n",
    "for idx in [(i, j) for i in 1:5, j in 1:5 if i != j]\n",
    "    i, j = idx\n",
    "    iperfmat[i, j] = mean(iperfs[(iperfs.src .== i) .& (iperfs.dest .== j), :].bandwidth) / 200\n",
    "end\n",
    "\n",
    "edges = join([\"$i -- $j [len=$(iperfmat[i,j])];\" for i in 1:5, j in 1:5 if i < j], \" \")\n",
    "graph = \"graph G { node [shape=box, style=filled, width=.3, height=.3]; $edges }\"\n",
    "f = open(\"iperf_graph.svg\", \"w\")\n",
    "print(f, read(pipeline(`echo $graph`, `neato -Tsvg`), String))\n",
    "close(f)"
   ]
  },
  {
   "cell_type": "markdown",
   "metadata": {},
   "source": [
    "### Exp4 - iperf udp"
   ]
  },
  {
   "cell_type": "code",
   "execution_count": null,
   "metadata": {},
   "outputs": [],
   "source": [
    "# parsing function\n",
    "function parse_iperfudp(filepath)\n",
    "    f = open(filepath)\n",
    "    lines = readlines(f)[8:17] # remove start\n",
    "    close(f)\n",
    "    \n",
    "    bandwidths = zeros(Int, length(lines))\n",
    "    for line in enumerate(lines)\n",
    "        bandwidths[line[1]] = parse(Float64, chop(match(r\"[\\.\\d]* Mbits\", line[2]).match, tail=6))\n",
    "    end\n",
    "    return bandwidths[1:end-1]\n",
    "end;"
   ]
  },
  {
   "cell_type": "code",
   "execution_count": null,
   "metadata": {},
   "outputs": [],
   "source": [
    "# read data\n",
    "exp4dir = \"data/exp4\"\n",
    "\n",
    "iperfsudp = DataFrame(src = Int[], dest = Int[], b = String[], time = Int[], bandwidth = Float64[])\n",
    "for idx in [(i, j) for i in 1:5, j in 1:5 if i != j]\n",
    "    i, j = idx\n",
    "    bandwidths = [\"150m\", \"200m\", \"250m\", \"300m\", \"350m\"]\n",
    "    for bandwidth in bandwidths\n",
    "        vals = parse_iperf(\"$exp4dir/iperf-$i-$j-$bandwidth\")\n",
    "        for t in 1:length(vals)\n",
    "            push!(iperfsudp, (i, j, bandwidth, t, vals[t]))\n",
    "        end\n",
    "    end\n",
    "end"
   ]
  },
  {
   "cell_type": "code",
   "execution_count": null,
   "metadata": {},
   "outputs": [],
   "source": [
    "p = plot(by(iperfsudp[(iperfsudp.time .> 0) .& (iperfsudp.time .< 10), :], [:b, :time, :dest], :bandwidth=>mean),\n",
    "    x=:time,\n",
    "    xgroup=:b,\n",
    "    y=:bandwidth_mean,\n",
    "    color=:dest,\n",
    "    Geom.subplot_grid(Geom.point, Geom.line),\n",
    "    Scale.color_discrete,\n",
    "    Guide.xlabel(\"time /s by bandwidth /Mbps\"),\n",
    "    Guide.ylabel(\"mean bandwidth\"))\n",
    "draw(SVG(\"iperfs_udp_timeline.svg\", 12inch, 8inch), p)"
   ]
  },
  {
   "cell_type": "code",
   "execution_count": null,
   "metadata": {},
   "outputs": [],
   "source": [
    "p = plot(iperfsudp,\n",
    "    x=:dest,\n",
    "    xgroup=:src,\n",
    "    y=:bandwidth,\n",
    "    color=:b,\n",
    "    Geom.subplot_grid(Geom.boxplot))\n",
    "draw(SVG(\"iperfs_udp_boxplot.svg\", 12inch, 8inch), p)"
   ]
  },
  {
   "cell_type": "markdown",
   "metadata": {},
   "source": [
    "### Exp5 - 2 way iperf"
   ]
  },
  {
   "cell_type": "code",
   "execution_count": null,
   "metadata": {},
   "outputs": [],
   "source": [
    "# parsing function\n",
    "function parse_iperf2way(filepath)\n",
    "    f = open(filepath)\n",
    "    lines = readlines(f)\n",
    "    close(f)\n",
    "    \n",
    "    lines = join(lines, \"\\n\")\n",
    "    \n",
    "    ids = unique(map(x -> x.match, collect(eachmatch(r\"(?<=\\[)[ ]*\\d(?=\\])\", lines))))\n",
    "       \n",
    "    lines1 = join(map(x -> x.match, collect(eachmatch(Regex(\"\\\\[$(ids[1])\\\\].*\\\\n\"), lines))), \" \")\n",
    "    lines2 = join(map(x -> x.match, collect(eachmatch(Regex(\"\\\\[$(ids[2])\\\\].*\\\\n\"), lines))), \" \")\n",
    "    \n",
    "    vals1 = map(x -> parse(Float64, x.match), collect(eachmatch(r\"[\\d\\.]+(?= Mbits\\/sec)\", lines1)))\n",
    "    vals2 = map(x -> parse(Float64, x.match), collect(eachmatch(r\"[\\d\\.]+(?= Mbits\\/sec)\", lines2)))\n",
    "    \n",
    "    return (vals1[1:end-1], vals2[1:end-1])\n",
    "end;"
   ]
  },
  {
   "cell_type": "code",
   "execution_count": null,
   "metadata": {},
   "outputs": [],
   "source": [
    "# read data\n",
    "exp5dir = \"data/exp5\"\n",
    "\n",
    "iperfs2way = DataFrame(src = Int[], dest = Int[], forwards = Bool[], time = Int[], bandwidth = Int[])\n",
    "for idx in [(i, j) for i in 1:5, j in 1:5 if i < j]\n",
    "    i, j = idx\n",
    "    vals = parse_iperf2way(\"$exp5dir/iperf-$i-$j\")\n",
    "    for t in 1:length(vals[1])\n",
    "        push!(iperfs2way, (i, j, true, t, vals[1][t]))\n",
    "        push!(iperfs2way, (i, j, false, t, vals[2][t]))\n",
    "    end\n",
    "end"
   ]
  },
  {
   "cell_type": "code",
   "execution_count": null,
   "metadata": {},
   "outputs": [],
   "source": [
    "# plots here\n",
    "iperfs2waymod = copy(iperfs2way)\n",
    "iperfs2waymod.srcdest = map(string,iperfs2waymod.src) .* \",\" .* map(string,iperfs2waymod.dest)\n",
    "p = plot(iperfs2waymod,\n",
    "    x=:srcdest,\n",
    "    y=:bandwidth,\n",
    "    color=:forwards,\n",
    "    Geom.boxplot,\n",
    "    Guide.xlabel(\"src-dest pairs\"),\n",
    "    Guide.ylabel(\"bandwidth /Mbps\"))\n",
    "draw(SVG(\"iperfs_2way_boxplot.svg\", 12inch, 8inch), p)"
   ]
  },
  {
   "cell_type": "markdown",
   "metadata": {},
   "source": [
    "### Exp6 - iperf 1 to 2"
   ]
  },
  {
   "cell_type": "code",
   "execution_count": null,
   "metadata": {},
   "outputs": [],
   "source": [
    "# read data\n",
    "exp6dir = \"data/exp6\"\n",
    "\n",
    "src = 1\n",
    "iperfs1to2 = DataFrame(src = Int[], dest = Int[], i = Int[], dests = Tuple{Int,Int}[], time = Int[], bandwidth = Float64[])\n",
    "for dests in [(i, j) for i in 2:5, j in 2:5 if i <= j]\n",
    "    src = 1\n",
    "    for i in 1:length(dests)\n",
    "        dest = dests[i]       \n",
    "        vals = parse_iperf(\"$exp6dir/iperf-$src-$dest($i)-$dests\")\n",
    "        for t in 1:length(vals)\n",
    "            push!(iperfs1to2, (src, dest, i, dests, t, vals[t]))\n",
    "        end\n",
    "    end\n",
    "end"
   ]
  },
  {
   "cell_type": "code",
   "execution_count": null,
   "metadata": {},
   "outputs": [],
   "source": [
    "iperfs1to2mod = copy(iperfs1to2)\n",
    "iperfs1to2mod.dests_tuple = map(string, iperfs1to2mod.dests)\n",
    "iperfs1to2_stats = by(iperfs1to2mod, [:dests_tuple, :i] ,:bandwidth=>mean)\n",
    "p1 = plot(iperfs1to2_stats,\n",
    "    x=:dests_tuple,\n",
    "    y=:bandwidth_mean,\n",
    "    color=:i,\n",
    "    Geom.bar(position=:stack),\n",
    "    Scale.color_discrete,\n",
    "    Theme(bar_spacing=2mm),\n",
    "    Guide.xlabel(\"destinations tuple\"),\n",
    "    Guide.ylabel(\"mean bandwidth /Mbps\"),\n",
    "    Guide.colorkey(title=\"tuple index\"))\n",
    "draw(SVG(\"iperfs_1to2.svg\", 12inch, 8inch), p1)"
   ]
  },
  {
   "cell_type": "markdown",
   "metadata": {},
   "source": [
    "### Exp7 - iperf 1 to 3"
   ]
  },
  {
   "cell_type": "code",
   "execution_count": null,
   "metadata": {},
   "outputs": [],
   "source": [
    "# read data\n",
    "exp7dir = \"data/exp7\"\n",
    "\n",
    "src = 1\n",
    "#iperfs1to3 = DataFrame(src = Int[], dest = Int[], i = Int[], dests = Tuple{Int,Int,Int}[], time = Int[], bandwidth = Float64[])\n",
    "for dests in [(i,j,k) for i in 2:5, j in 2:5, k in 2:5 if i <= j && j <= k]\n",
    "    src = 1\n",
    "    for i in 1:length(dests)\n",
    "        dest = dests[i]       \n",
    "        vals = parse_iperf(\"$exp7dir/iperf-$src-$dest($i)-$dests\")\n",
    "        for t in 1:length(vals)\n",
    "            push!(iperfs1to3, (src, dest, i, dests, t, vals[t]))\n",
    "        end\n",
    "    end\n",
    "end"
   ]
  },
  {
   "cell_type": "code",
   "execution_count": null,
   "metadata": {},
   "outputs": [],
   "source": [
    "iperfs1to3mod = copy(iperfs1to3)\n",
    "iperfs1to3mod.dests_tuple = map(string, iperfs1to3mod.dests)\n",
    "iperfs1to3_stats = by(iperfs1to3mod, [:dests_tuple, :i] ,:bandwidth=>mean)\n",
    "p2 = plot(iperfs1to3_stats,\n",
    "    x=:dests_tuple,\n",
    "    y=:bandwidth_mean,\n",
    "    color=:i,\n",
    "    Geom.bar(position=:stack),\n",
    "    Scale.color_discrete,\n",
    "    Theme(bar_spacing=2mm),\n",
    "    Guide.xlabel(\"destinations tuple\"),\n",
    "    Guide.ylabel(\"mean bandwidth /Mbps\"),\n",
    "    Guide.colorkey(title=\"tuple index\"))\n",
    "draw(SVG(\"iperfs_1to3.svg\", 12inch, 8inch), p2)"
   ]
  },
  {
   "cell_type": "markdown",
   "metadata": {},
   "source": [
    "### Exp8 - iperf 1 to 4"
   ]
  },
  {
   "cell_type": "code",
   "execution_count": null,
   "metadata": {},
   "outputs": [],
   "source": [
    "# read data\n",
    "exp8dir = \"data/exp8\"\n",
    "\n",
    "src = 1\n",
    "iperfs1to4 = DataFrame(src = Int[], dest = Int[], i = Int[], dests = Tuple{Int,Int,Int,Int}[], time = Int[], bandwidth = Float64[])\n",
    "for dests in [(i,j,k,l) for i in 2:5, j in 2:5, k in 2:5, l in 2:5 if i <= j && j <= k && k <= l] \n",
    "    src = 1\n",
    "    for i in 1:length(dests)\n",
    "        dest = dests[i]       \n",
    "        vals = parse_iperf(\"$exp8dir/iperf-$src-$dest($i)-$dests\")\n",
    "        for t in 1:length(vals)\n",
    "            push!(iperfs1to4, (src, dest, i, dests, t, vals[t]))\n",
    "        end\n",
    "    end\n",
    "end"
   ]
  },
  {
   "cell_type": "code",
   "execution_count": null,
   "metadata": {},
   "outputs": [],
   "source": [
    "iperfs1to4mod = copy(iperfs1to4)\n",
    "iperfs1to4mod.dests_tuple = map(string, iperfs1to4mod.dests)\n",
    "iperfs1to4_stats = by(iperfs1to4mod, [:dests_tuple, :i] ,:bandwidth=>mean)\n",
    "p3 = plot(iperfs1to4_stats,\n",
    "    x=:dests_tuple,\n",
    "    y=:bandwidth_mean,\n",
    "    color=:i,\n",
    "    Geom.bar(position=:stack),\n",
    "    Scale.color_discrete,\n",
    "    Theme(bar_spacing=2mm),\n",
    "    Guide.xlabel(\"destinations tuple\"),\n",
    "    Guide.ylabel(\"mean bandwidth /Mbps\"),\n",
    "    Guide.colorkey(title=\"tuple index\"))\n",
    "draw(SVG(\"iperfs_1to4.svg\", 12inch, 8inch), p3)"
   ]
  },
  {
   "cell_type": "code",
   "execution_count": null,
   "metadata": {},
   "outputs": [],
   "source": [
    "p5 = gridstack(Array{Union{Context, Plot},2}([p1 p2; p3 p4]))\n",
    "draw(SVG(\"iperfs-1-many.svg\", 12inch, 8inch), p5)"
   ]
  },
  {
   "cell_type": "markdown",
   "metadata": {},
   "source": [
    "### Exp9 - iperf 2 to 1"
   ]
  },
  {
   "cell_type": "code",
   "execution_count": null,
   "metadata": {},
   "outputs": [],
   "source": [
    "# read data\n",
    "exp9dir = \"data/exp9\"\n",
    "\n",
    "src = 1\n",
    "iperfs2to1 = DataFrame(srcs = Tuple{Int,Int}[], src = Int[], i = Int[], dest = Int[], time = Int[], bandwidth = Float64[])\n",
    "for srcs in [(i, j) for i in 2:5, j in 2:5 if i <= j]\n",
    "    dest = 1\n",
    "    for i in 1:length(srcs)\n",
    "        src = srcs[i]       \n",
    "        vals = parse_iperf(\"$exp9dir/iperf-$srcs-$src($i)-$dest\")\n",
    "        for t in 1:length(vals)\n",
    "            push!(iperfs2to1, (srcs, src, i, dest, t, vals[t]))\n",
    "        end\n",
    "    end\n",
    "end"
   ]
  },
  {
   "cell_type": "code",
   "execution_count": null,
   "metadata": {},
   "outputs": [],
   "source": [
    "iperfs2to1mod = copy(iperfs2to1)\n",
    "iperfs2to1mod.srcs_tuple = map(string, iperfs2to1mod.srcs)\n",
    "iperfs2to1_stats = by(iperfs2to1mod, [:srcs_tuple, :i] ,:bandwidth=>mean)\n",
    "p1 = plot(iperfs2to1_stats, x=:srcs_tuple,\n",
    "    y=:bandwidth_mean,\n",
    "    color=:i,\n",
    "    Geom.bar(position=:stack),\n",
    "    Scale.color_discrete,\n",
    "    Theme(bar_spacing=2mm),\n",
    "    Guide.xlabel(\"destinations tuple\"),\n",
    "    Guide.ylabel(\"mean bandwidth /Mbps\"),\n",
    "    Guide.colorkey(title=\"tuple index\"))\n",
    "draw(SVG(\"iperfs_2to1.svg\", 12inch, 8inch), p1)"
   ]
  },
  {
   "cell_type": "markdown",
   "metadata": {},
   "source": [
    "### Exp10 - iperf 3 to 1"
   ]
  },
  {
   "cell_type": "code",
   "execution_count": null,
   "metadata": {},
   "outputs": [],
   "source": [
    "# read data\n",
    "exp10dir = \"data/exp10\"\n",
    "\n",
    "src = 1\n",
    "iperfs3to1 = DataFrame(srcs = Tuple{Int,Int,Int}[], src = Int[], i = Int[], dest = Int[], time = Int[], bandwidth = Float64[])\n",
    "for srcs in [(i, j, k) for i in 2:5, j in 2:5, k in 2:5 if i <= j && j <= k]\n",
    "    dest = 1\n",
    "    for i in 1:length(srcs)\n",
    "        src = srcs[i]       \n",
    "        vals = parse_iperf(\"$exp10dir/iperf-$srcs-$src($i)-$dest\")\n",
    "        for t in 1:length(vals)\n",
    "            push!(iperfs3to1, (srcs, src, i, dest, t, vals[t]))\n",
    "        end\n",
    "    end\n",
    "end"
   ]
  },
  {
   "cell_type": "code",
   "execution_count": null,
   "metadata": {},
   "outputs": [],
   "source": [
    "iperfs3to1mod = copy(iperfs3to1)\n",
    "iperfs3to1mod.srcs_tuple = map(string, iperfs3to1mod.srcs)\n",
    "iperfs3to1_stats = by(iperfs3to1mod, [:srcs_tuple, :i] ,:bandwidth=>mean)\n",
    "p2 = plot(iperfs3to1_stats,\n",
    "    x=:srcs_tuple,\n",
    "    y=:bandwidth_mean,\n",
    "    color=:i,\n",
    "    Geom.bar(position=:stack),\n",
    "    Scale.color_discrete,\n",
    "    Theme(bar_spacing=2mm),\n",
    "    Guide.xlabel(\"destinations tuple\"),\n",
    "    Guide.ylabel(\"mean bandwidth /Mbps\"),\n",
    "    Guide.colorkey(title=\"tuple index\"))\n",
    "draw(SVG(\"iperfs_3to1.svg\", 12inch, 8inch), p2)"
   ]
  },
  {
   "cell_type": "markdown",
   "metadata": {},
   "source": [
    "### Exp11 - iperf 4 to 1"
   ]
  },
  {
   "cell_type": "code",
   "execution_count": null,
   "metadata": {},
   "outputs": [],
   "source": [
    "# read data\n",
    "exp11dir = \"data/exp11\"\n",
    "\n",
    "src = 1\n",
    "iperfs4to1 = DataFrame(srcs = Tuple{Int,Int,Int,Int}[], src = Int[], i = Int[], dest = Int[], time = Int[], bandwidth = Float64[])\n",
    "for srcs in [(i, j, k, l) for i in 2:5, j in 2:5, k in 2:5, l in 2:5 if i <= j && j <= k && k <= l]\n",
    "    dest = 1\n",
    "    for i in 1:length(srcs)\n",
    "        src = srcs[i]\n",
    "        vals = parse_iperf(\"$exp11dir/iperf-$srcs-$src($i)-$dest\")\n",
    "        for t in 1:length(vals)\n",
    "            push!(iperfs4to1, (srcs, src, i, dest, t, vals[t]))\n",
    "        end\n",
    "    end\n",
    "end"
   ]
  },
  {
   "cell_type": "code",
   "execution_count": null,
   "metadata": {},
   "outputs": [],
   "source": [
    "iperfs4to1mod = copy(iperfs4to1)\n",
    "iperfs4to1mod.srcs_tuple = map(string, iperfs4to1mod.srcs)\n",
    "iperfs4to1_stats = by(iperfs4to1mod, [:srcs_tuple, :i] ,:bandwidth=>mean)\n",
    "p3 = plot(iperfs4to1_stats,\n",
    "    x=:srcs_tuple,\n",
    "    y=:bandwidth_mean,\n",
    "    color=:i,\n",
    "    Geom.bar(position=:stack),\n",
    "    Scale.color_discrete,\n",
    "    Theme(bar_spacing=2mm),\n",
    "    Guide.xlabel(\"destinations tuple\"),\n",
    "    Guide.ylabel(\"mean bandwidth /Mbps\"),\n",
    "    Guide.colorkey(title=\"tuple index\"))\n",
    "draw(SVG(\"iperfs_4to1.svg\", 12inch, 8inch), p3)"
   ]
  },
  {
   "cell_type": "code",
   "execution_count": null,
   "metadata": {},
   "outputs": [],
   "source": [
    "p5 = gridstack(Array{Union{Context, Plot},2}([p1 p2; p3 p4]))\n",
    "draw(SVG(\"iperfs-many-1.svg\", 12inch, 8inch), p5)"
   ]
  },
  {
   "cell_type": "markdown",
   "metadata": {},
   "source": [
    "### Exp12 - ping with cross-talk"
   ]
  },
  {
   "cell_type": "code",
   "execution_count": null,
   "metadata": {},
   "outputs": [],
   "source": [
    "# read data\n",
    "exp12dir = \"data/exp12\"\n",
    "\n",
    "pings_cross = DataFrame(src = Int[], dest = Int[], wait = Float64[], rtt = Float64[])\n",
    "for idx in [(i, j) for i in 1:5, j in 1:5 if i != j]\n",
    "    i, j = idx\n",
    "    intervals = [0.000001, 0.00001, 0.0001, 0.001, 0.01, 0.1]\n",
    "    for interval in intervals\n",
    "        vals = parse_ping(\"$exp12dir/ping-$i-$j-$interval\")\n",
    "        for rtt in vals[:rtts]\n",
    "            push!(pings_cross, (i, j, interval, rtt))\n",
    "        end\n",
    "    end\n",
    "end\n",
    "\n",
    "pings_cross_stats = by(pings_cross, [:src, :dest, :wait], :rtt => mean, :rtt => std);"
   ]
  },
  {
   "cell_type": "code",
   "execution_count": null,
   "metadata": {},
   "outputs": [],
   "source": [
    "pings_cross_tagged = copy(pings_cross_stats)\n",
    "pings_cross_tagged.t = \"cross\"\n",
    "pings_tagged = copy(pings_stats)\n",
    "pings_tagged.t = \"non-cross\"\n",
    "\n",
    "pings_combined = vcat(pings_cross_tagged, pings_tagged)\n",
    "\n",
    "p = plot(pings_combined,\n",
    "    xgroup=:wait,\n",
    "    ygroup=:t,\n",
    "    x=:src,\n",
    "    y=:dest,\n",
    "    color=:rtt_mean,\n",
    "    Geom.subplot_grid(Geom.rectbin,\n",
    "        Coord.cartesian(xmin=1, xmax=5, ymin=1, ymax=5)))\n",
    "draw(SVG(\"pings_combined_mean.svg\", 10inch, 4inch), p)\n",
    "p = plot(pings_combined,\n",
    "    xgroup=:wait,\n",
    "    ygroup=:t,\n",
    "    x=:src,\n",
    "    y=:dest,\n",
    "    color=:rtt_std,\n",
    "    Geom.subplot_grid(Geom.rectbin,\n",
    "        Coord.cartesian(xmin=1, xmax=5, ymin=1, ymax=5)))\n",
    "draw(SVG(\"pings_combined_std.svg\", 10inch, 4inch), p)"
   ]
  },
  {
   "cell_type": "code",
   "execution_count": null,
   "metadata": {},
   "outputs": [],
   "source": [
    "p = plot(pings_cross_stats,\n",
    "    xgroup=:wait,\n",
    "    x=:src,\n",
    "    y=:dest,\n",
    "    color=:rtt_mean,\n",
    "    Geom.subplot_grid(Geom.rectbin,\n",
    "        Coord.cartesian(xmin=1, xmax=5, ymin=1, ymax=5),\n",
    "        Guide.xticks(orientation=:horizontal)),\n",
    "    Guide.xlabel(\"src by wait /s\"),\n",
    "    Guide.ylabel(\"dest\"),\n",
    "    Guide.colorkey(title=\"RTT mean\"))\n",
    "draw(SVG(\"ping_allpair_matrix_rtt_mean_cross.svg\", 10inch, 2.8inch), p)\n",
    "p = plot(pings_cross_stats,\n",
    "    xgroup=:wait,\n",
    "    x=:src,\n",
    "    y=:dest,\n",
    "    color=:rtt_std,\n",
    "    Geom.subplot_grid(Geom.rectbin,\n",
    "        Coord.cartesian(xmin=1, xmax=5, ymin=1, ymax=5),\n",
    "        Guide.xticks(orientation=:horizontal)),\n",
    "    Guide.xlabel(\"src by wait /s\"),\n",
    "    Guide.ylabel(\"dest\"),\n",
    "    Guide.colorkey(title=\"RTT std\"))\n",
    "draw(SVG(\"ping_allpair_matrix_rtt_std_cross.svg\", 10inch, 2.8inch), p)"
   ]
  },
  {
   "cell_type": "code",
   "execution_count": null,
   "metadata": {},
   "outputs": [],
   "source": [
    "edges = join([\"$i -- $j [len=$(build_ping_matrices(pings_cross_stats)[0.1][i,j])];\" for i in 1:5, j in 1:5 if i != j], \" \")\n",
    "graph = \"graph G { node [shape=box, style=filled, width=.3, height=.3]; $edges }\"\n",
    "f = open(\"ping_graph_0.1.svg\", \"w\")\n",
    "print(f, read(pipeline(`echo $graph`, `neato -Tsvg`), String))\n",
    "close(f)"
   ]
  },
  {
   "cell_type": "markdown",
   "metadata": {},
   "source": [
    "### Exp13 - iperf with cross-talk"
   ]
  },
  {
   "cell_type": "code",
   "execution_count": null,
   "metadata": {},
   "outputs": [],
   "source": [
    "# read data\n",
    "exp13dir = \"data/exp13\"\n",
    "\n",
    "iperfs_cross = DataFrame(src = Int[], dest = Int[], time = Int[], bandwidth = Float64[])\n",
    "for idx in [(i, j) for i in 1:5, j in 1:5 if i != j]\n",
    "    i, j = idx\n",
    "    vals = parse_iperf(\"$exp13dir/iperf-$i-$j\")\n",
    "    for t in 1:length(vals)\n",
    "        push!(iperfs_cross, (i, j, t-1, vals[t]))\n",
    "    end\n",
    "end"
   ]
  },
  {
   "cell_type": "code",
   "execution_count": null,
   "metadata": {},
   "outputs": [],
   "source": [
    "p = plot(iperfs_cross,\n",
    "    x=:dest,\n",
    "    xgroup=:src,\n",
    "    y=:bandwidth,\n",
    "    Geom.subplot_grid(Geom.boxplot,\n",
    "        Coord.cartesian(xmin=1, xmax=5)))\n",
    "draw(SVG(\"iperfs_boxplot_group2_by_src.svg\", 10inch, 8inch), p)"
   ]
  }
 ],
 "metadata": {
  "kernelspec": {
   "display_name": "Julia 1.2.0",
   "language": "julia",
   "name": "julia-1.2"
  },
  "language_info": {
   "file_extension": ".jl",
   "mimetype": "application/julia",
   "name": "julia",
   "version": "1.2.0"
  }
 },
 "nbformat": 4,
 "nbformat_minor": 2
}
